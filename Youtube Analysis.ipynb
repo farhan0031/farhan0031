{
 "cells": [
  {
   "cell_type": "markdown",
   "id": "edb025e7",
   "metadata": {},
   "source": [
    "# YOUTUBE  STREAMER  ANALYSIS"
   ]
  },
  {
   "cell_type": "markdown",
   "id": "eafa24a4",
   "metadata": {},
   "source": [
    "## IMPORT LIBRARIES"
   ]
  },
  {
   "cell_type": "code",
   "execution_count": 3,
   "id": "29ca7a70",
   "metadata": {},
   "outputs": [],
   "source": [
    "import pandas as pd\n",
    "import numpy as np\n",
    "from googletrans import Translator\n",
    "from tqdm import tqdm\n",
    "import seaborn as sns\n",
    "import matplotlib.pyplot as plt\n",
    "from sklearn.metrics.pairwise import cosine_similarity\n",
    "from sklearn.neighbors import NearestNeighbors\n",
    "from sklearn.feature_extraction.text import TfidfVectorizer"
   ]
  },
  {
   "cell_type": "code",
   "execution_count": 4,
   "id": "65cba2b3",
   "metadata": {},
   "outputs": [],
   "source": [
    "# Load the data\n",
    "yt_df = pd.read_csv(r\"C:\\Users\\mdfar\\OneDrive\\Documents\\yt_df.csv\")"
   ]
  },
  {
   "cell_type": "markdown",
   "id": "8fcd169d",
   "metadata": {},
   "source": [
    "# 1. Data Exploration:"
   ]
  },
  {
   "cell_type": "markdown",
   "id": "8f56561b",
   "metadata": {},
   "source": [
    "##### Here are the first few rows of the dataset:"
   ]
  },
  {
   "cell_type": "code",
   "execution_count": 3,
   "id": "825bd76c",
   "metadata": {},
   "outputs": [
    {
     "data": {
      "text/html": [
       "<div>\n",
       "<style scoped>\n",
       "    .dataframe tbody tr th:only-of-type {\n",
       "        vertical-align: middle;\n",
       "    }\n",
       "\n",
       "    .dataframe tbody tr th {\n",
       "        vertical-align: top;\n",
       "    }\n",
       "\n",
       "    .dataframe thead th {\n",
       "        text-align: right;\n",
       "    }\n",
       "</style>\n",
       "<table border=\"1\" class=\"dataframe\">\n",
       "  <thead>\n",
       "    <tr style=\"text-align: right;\">\n",
       "      <th></th>\n",
       "      <th>Rank</th>\n",
       "      <th>Username</th>\n",
       "      <th>Categories</th>\n",
       "      <th>Suscribers</th>\n",
       "      <th>Country</th>\n",
       "      <th>Visits</th>\n",
       "      <th>Likes</th>\n",
       "      <th>Comments</th>\n",
       "      <th>Links</th>\n",
       "    </tr>\n",
       "  </thead>\n",
       "  <tbody>\n",
       "    <tr>\n",
       "      <th>0</th>\n",
       "      <td>1</td>\n",
       "      <td>tseries</td>\n",
       "      <td>Música y baile</td>\n",
       "      <td>249500000</td>\n",
       "      <td>India</td>\n",
       "      <td>86200.0</td>\n",
       "      <td>2700</td>\n",
       "      <td>78</td>\n",
       "      <td>http://youtube.com/channel/UCq-Fj5jknLsUf-MWSy...</td>\n",
       "    </tr>\n",
       "    <tr>\n",
       "      <th>1</th>\n",
       "      <td>2</td>\n",
       "      <td>MrBeast</td>\n",
       "      <td>Videojuegos, Humor</td>\n",
       "      <td>183500000</td>\n",
       "      <td>Estados Unidos</td>\n",
       "      <td>117400000.0</td>\n",
       "      <td>5300000</td>\n",
       "      <td>18500</td>\n",
       "      <td>http://youtube.com/channel/UCX6OQ3DkcsbYNE6H8u...</td>\n",
       "    </tr>\n",
       "    <tr>\n",
       "      <th>2</th>\n",
       "      <td>3</td>\n",
       "      <td>CoComelon</td>\n",
       "      <td>Educación</td>\n",
       "      <td>165500000</td>\n",
       "      <td>Unknown</td>\n",
       "      <td>7000000.0</td>\n",
       "      <td>24700</td>\n",
       "      <td>0</td>\n",
       "      <td>http://youtube.com/channel/UCbCmjCuTUZos6Inko4...</td>\n",
       "    </tr>\n",
       "    <tr>\n",
       "      <th>3</th>\n",
       "      <td>4</td>\n",
       "      <td>SETIndia</td>\n",
       "      <td>NaN</td>\n",
       "      <td>162600000</td>\n",
       "      <td>India</td>\n",
       "      <td>15600.0</td>\n",
       "      <td>166</td>\n",
       "      <td>9</td>\n",
       "      <td>http://youtube.com/channel/UCpEhnqL0y41EpW2TvW...</td>\n",
       "    </tr>\n",
       "    <tr>\n",
       "      <th>4</th>\n",
       "      <td>5</td>\n",
       "      <td>KidsDianaShow</td>\n",
       "      <td>Animación, Juguetes</td>\n",
       "      <td>113500000</td>\n",
       "      <td>Unknown</td>\n",
       "      <td>3900000.0</td>\n",
       "      <td>12400</td>\n",
       "      <td>0</td>\n",
       "      <td>http://youtube.com/channel/UCk8GzjMOrta8yxDcKf...</td>\n",
       "    </tr>\n",
       "  </tbody>\n",
       "</table>\n",
       "</div>"
      ],
      "text/plain": [
       "   Rank       Username           Categories  Suscribers         Country  \\\n",
       "0     1        tseries       Música y baile   249500000           India   \n",
       "1     2        MrBeast   Videojuegos, Humor   183500000  Estados Unidos   \n",
       "2     3      CoComelon            Educación   165500000         Unknown   \n",
       "3     4       SETIndia                  NaN   162600000           India   \n",
       "4     5  KidsDianaShow  Animación, Juguetes   113500000         Unknown   \n",
       "\n",
       "        Visits    Likes  Comments  \\\n",
       "0      86200.0     2700        78   \n",
       "1  117400000.0  5300000     18500   \n",
       "2    7000000.0    24700         0   \n",
       "3      15600.0      166         9   \n",
       "4    3900000.0    12400         0   \n",
       "\n",
       "                                               Links  \n",
       "0  http://youtube.com/channel/UCq-Fj5jknLsUf-MWSy...  \n",
       "1  http://youtube.com/channel/UCX6OQ3DkcsbYNE6H8u...  \n",
       "2  http://youtube.com/channel/UCbCmjCuTUZos6Inko4...  \n",
       "3  http://youtube.com/channel/UCpEhnqL0y41EpW2TvW...  \n",
       "4  http://youtube.com/channel/UCk8GzjMOrta8yxDcKf...  "
      ]
     },
     "execution_count": 3,
     "metadata": {},
     "output_type": "execute_result"
    }
   ],
   "source": [
    "# Display the first few rows of the dataframe\n",
    "yt_df.head()"
   ]
  },
  {
   "cell_type": "markdown",
   "id": "e8557340",
   "metadata": {},
   "source": [
    "#### Here are the summary statistics of the dataset:"
   ]
  },
  {
   "cell_type": "code",
   "execution_count": 5,
   "id": "3856ad73",
   "metadata": {},
   "outputs": [
    {
     "data": {
      "text/html": [
       "<div>\n",
       "<style scoped>\n",
       "    .dataframe tbody tr th:only-of-type {\n",
       "        vertical-align: middle;\n",
       "    }\n",
       "\n",
       "    .dataframe tbody tr th {\n",
       "        vertical-align: top;\n",
       "    }\n",
       "\n",
       "    .dataframe thead th {\n",
       "        text-align: right;\n",
       "    }\n",
       "</style>\n",
       "<table border=\"1\" class=\"dataframe\">\n",
       "  <thead>\n",
       "    <tr style=\"text-align: right;\">\n",
       "      <th></th>\n",
       "      <th>Rank</th>\n",
       "      <th>Suscribers</th>\n",
       "      <th>Visits</th>\n",
       "      <th>Likes</th>\n",
       "      <th>Comments</th>\n",
       "    </tr>\n",
       "  </thead>\n",
       "  <tbody>\n",
       "    <tr>\n",
       "      <th>count</th>\n",
       "      <td>1000.000000</td>\n",
       "      <td>1.000000e+03</td>\n",
       "      <td>1.000000e+03</td>\n",
       "      <td>1.000000e+03</td>\n",
       "      <td>1000.000000</td>\n",
       "    </tr>\n",
       "    <tr>\n",
       "      <th>mean</th>\n",
       "      <td>500.500000</td>\n",
       "      <td>2.189440e+07</td>\n",
       "      <td>1.209446e+06</td>\n",
       "      <td>5.363259e+04</td>\n",
       "      <td>1288.768000</td>\n",
       "    </tr>\n",
       "    <tr>\n",
       "      <th>std</th>\n",
       "      <td>288.819436</td>\n",
       "      <td>1.682775e+07</td>\n",
       "      <td>5.229942e+06</td>\n",
       "      <td>2.580457e+05</td>\n",
       "      <td>6778.188308</td>\n",
       "    </tr>\n",
       "    <tr>\n",
       "      <th>min</th>\n",
       "      <td>1.000000</td>\n",
       "      <td>1.170000e+07</td>\n",
       "      <td>0.000000e+00</td>\n",
       "      <td>0.000000e+00</td>\n",
       "      <td>0.000000</td>\n",
       "    </tr>\n",
       "    <tr>\n",
       "      <th>25%</th>\n",
       "      <td>250.750000</td>\n",
       "      <td>1.380000e+07</td>\n",
       "      <td>3.197500e+04</td>\n",
       "      <td>4.717500e+02</td>\n",
       "      <td>2.000000</td>\n",
       "    </tr>\n",
       "    <tr>\n",
       "      <th>50%</th>\n",
       "      <td>500.500000</td>\n",
       "      <td>1.675000e+07</td>\n",
       "      <td>1.744500e+05</td>\n",
       "      <td>3.500000e+03</td>\n",
       "      <td>67.000000</td>\n",
       "    </tr>\n",
       "    <tr>\n",
       "      <th>75%</th>\n",
       "      <td>750.250000</td>\n",
       "      <td>2.370000e+07</td>\n",
       "      <td>8.654750e+05</td>\n",
       "      <td>2.865000e+04</td>\n",
       "      <td>472.000000</td>\n",
       "    </tr>\n",
       "    <tr>\n",
       "      <th>max</th>\n",
       "      <td>1000.000000</td>\n",
       "      <td>2.495000e+08</td>\n",
       "      <td>1.174000e+08</td>\n",
       "      <td>5.300000e+06</td>\n",
       "      <td>154000.000000</td>\n",
       "    </tr>\n",
       "  </tbody>\n",
       "</table>\n",
       "</div>"
      ],
      "text/plain": [
       "              Rank    Suscribers        Visits         Likes       Comments\n",
       "count  1000.000000  1.000000e+03  1.000000e+03  1.000000e+03    1000.000000\n",
       "mean    500.500000  2.189440e+07  1.209446e+06  5.363259e+04    1288.768000\n",
       "std     288.819436  1.682775e+07  5.229942e+06  2.580457e+05    6778.188308\n",
       "min       1.000000  1.170000e+07  0.000000e+00  0.000000e+00       0.000000\n",
       "25%     250.750000  1.380000e+07  3.197500e+04  4.717500e+02       2.000000\n",
       "50%     500.500000  1.675000e+07  1.744500e+05  3.500000e+03      67.000000\n",
       "75%     750.250000  2.370000e+07  8.654750e+05  2.865000e+04     472.000000\n",
       "max    1000.000000  2.495000e+08  1.174000e+08  5.300000e+06  154000.000000"
      ]
     },
     "execution_count": 5,
     "metadata": {},
     "output_type": "execute_result"
    }
   ],
   "source": [
    " # Display the summary statistics of the dataframe\n",
    "yt_df.describe()"
   ]
  },
  {
   "cell_type": "markdown",
   "id": "52218b83",
   "metadata": {},
   "source": [
    "From the initial exploration, we can see that the dataset contains information about various YouTube channels, including their rank, username, categories, number of subscribers, country, visits, likes, comments, and links."
   ]
  },
  {
   "cell_type": "code",
   "execution_count": 6,
   "id": "5c059219",
   "metadata": {},
   "outputs": [
    {
     "name": "stdout",
     "output_type": "stream",
     "text": [
      "Missing data:\n",
      " Rank            0\n",
      "Username        0\n",
      "Categories    306\n",
      "Suscribers      0\n",
      "Country         0\n",
      "Visits          0\n",
      "Likes           0\n",
      "Comments        0\n",
      "Links           0\n",
      "dtype: int64\n",
      "\n",
      "Outliers:\n",
      " {'Rank': 0, 'Suscribers': 79, 'Visits': 131, 'Likes': 149, 'Comments': 151}\n"
     ]
    }
   ],
   "source": [
    "# Check for missing data\n",
    "missing_data = yt_df.isnull().sum()\n",
    "print('Missing data:\\n', missing_data)\n",
    "\n",
    "# Filter out non-numeric columns\n",
    "numeric_columns = yt_df.select_dtypes(include=['number']).columns\n",
    "\n",
    "# Check for outliers in numeric columns\n",
    "outliers_count = {}\n",
    "\n",
    "for column in numeric_columns:\n",
    "    Q1 = yt_df[column].quantile(0.25)\n",
    "    Q3 = yt_df[column].quantile(0.75)\n",
    "    IQR = Q3 - Q1\n",
    "\n",
    "    lower_bound = Q1 - 1.5 * IQR\n",
    "    upper_bound = Q3 + 1.5 * IQR\n",
    "\n",
    "    outliers_count[column] = ((yt_df[column] < lower_bound) | (yt_df[column] > upper_bound)).sum()\n",
    "\n",
    "# Display outliers count\n",
    "print('\\nOutliers:\\n', outliers_count)\n"
   ]
  },
  {
   "cell_type": "markdown",
   "id": "10c8d028",
   "metadata": {},
   "source": [
    "From the missing data check, we can see that the 'Categories' column has 306 missing values. For the outliers, the 'Comments' and 'Likes' columns seem to have a significant number of outliers. We might need to handle these missing values and outliers depending on the type of analysis we want to perform."
   ]
  },
  {
   "cell_type": "markdown",
   "id": "4891006a",
   "metadata": {},
   "source": [
    "# 2. Trend Analysis:"
   ]
  },
  {
   "cell_type": "code",
   "execution_count": 7,
   "id": "460ec021",
   "metadata": {},
   "outputs": [
    {
     "name": "stdout",
     "output_type": "stream",
     "text": [
      "Most popular categories:\n",
      " Categories\n",
      "Música y baile               160\n",
      "Películas, Animación          61\n",
      "Música y baile, Películas     41\n",
      "Vlogs diarios                 37\n",
      "Noticias y Política           36\n",
      "Películas, Humor              34\n",
      "Animación, Videojuegos        34\n",
      "Animación, Juguetes           29\n",
      "Animación, Humor              27\n",
      "Películas                     24\n",
      "Name: count, dtype: int64\n"
     ]
    },
    {
     "data": {
      "image/png": "[encoded data removed]",
      "text/plain": [
       "<Figure size 700x500 with 2 Axes>"
      ]
     },
     "metadata": {},
     "output_type": "display_data"
    }
   ],
   "source": [
    "# Identify the most popular categories among the top YouTube streamers\n",
    "popular_categories = yt_df['Categories'].value_counts().head(10)\n",
    "print('Most popular categories:\\n', popular_categories)\n",
    "\n",
    "\n",
    "\n",
    "# Create a heatmap for the correlation matrix\n",
    "correlation_matrix = yt_df[['Suscribers', 'Likes', 'Comments']].corr()\n",
    "correlation_matrix\n",
    "plt.figure(figsize=(7, 5))\n",
    "sns.heatmap(correlation_matrix, annot=True, cmap='coolwarm', center=0)\n",
    "plt.title('Correlation Heatmap')\n",
    "plt.show()"
   ]
  },
  {
   "cell_type": "markdown",
   "id": "ff491cf3",
   "metadata": {},
   "source": [
    "The color intensity in the heatmap represents the strength of the correlation. As we can see, the number of likes and comments have a stronger correlation with each other compared to their correlation with the number of subscribers."
   ]
  },
  {
   "cell_type": "markdown",
   "id": "aa1f8e6c",
   "metadata": {},
   "source": [
    "# 3. Audience Study:"
   ]
  },
  {
   "cell_type": "code",
   "execution_count": 8,
   "id": "62887ca6",
   "metadata": {},
   "outputs": [
    {
     "name": "stdout",
     "output_type": "stream",
     "text": [
      "Distribution of audiences by country:\n",
      " Country\n",
      "Estados Unidos    293\n",
      "India             241\n",
      "Unknown           171\n",
      "Brasil             64\n",
      "México             58\n",
      "Indonesia          38\n",
      "Rusia              25\n",
      "Tailandia          18\n",
      "Colombia           16\n",
      "Filipinas          13\n",
      "Name: count, dtype: int64\n",
      "\n",
      "Regional preferences for specific content categories:\n",
      " Country         Categories            \n",
      "Arabia Saudita  Música y baile            2\n",
      "                Animación, Videojuegos    1\n",
      "Argelia         Educación                 1\n",
      "Argentina       Películas, Animación      2\n",
      "                Animación                 1\n",
      "                Películas                 1\n",
      "                Películas, Humor          1\n",
      "Bangladesh      Noticias y Política       1\n",
      "                Viajes, Espectáculos      1\n",
      "                Vlogs diarios             1\n",
      "Name: count, dtype: int64\n"
     ]
    }
   ],
   "source": [
    "# Analyze the distribution of streamers' audiences by country\n",
    "audience_country = yt_df['Country'].value_counts()\n",
    "print('Distribution of audiences by country:\\n', audience_country.head(10))\n",
    "\n",
    "# Check if there are regional preferences for specific content categories\n",
    "regional_preferences = yt_df.groupby('Country')['Categories'].value_counts()\n",
    "print('\\nRegional preferences for specific content categories:\\n', regional_preferences.head(10))"
   ]
  },
  {
   "cell_type": "markdown",
   "id": "adf99bca",
   "metadata": {},
   "source": [
    "From the data, we can see that the United States and India have the highest number of audiences. As for regional preferences, it seems that different countries have different preferences for content categories. For example, in Saudi Arabia, 'Music and Dance' is the most popular category, while in Algeria, 'Education' is the most popular."
   ]
  },
  {
   "cell_type": "markdown",
   "id": "b11b9140",
   "metadata": {},
   "source": [
    "# 4. Performance Metrics:"
   ]
  },
  {
   "cell_type": "code",
   "execution_count": 36,
   "id": "0b83c1db",
   "metadata": {},
   "outputs": [
    {
     "name": "stdout",
     "output_type": "stream",
     "text": [
      "Average Subscribers: 21894400.0\n",
      "Average Visits: 1209446.3155\n",
      "Average Likes: 53632.592\n",
      "Average Comments: 1288.768\n"
     ]
    },
    {
     "data": {
      "image/png": "[encoded data removed]",
      "text/plain": [
       "<Figure size 800x600 with 1 Axes>"
      ]
     },
     "metadata": {},
     "output_type": "display_data"
    }
   ],
   "source": [
    "\n",
    "\n",
    "# Calculate the average number of subscribers, visits, likes, and comments\n",
    "avg_subscribers = yt_df['Suscribers'].mean()\n",
    "avg_visits = yt_df['Visits'].mean()\n",
    "avg_likes = yt_df['Likes'].mean()\n",
    "avg_comments = yt_df['Comments'].mean()\n",
    "\n",
    "# Print the averages\n",
    "print('Average Subscribers:', avg_subscribers)\n",
    "print('Average Visits:', avg_visits)\n",
    "print('Average Likes:', avg_likes)\n",
    "print('Average Comments:', avg_comments)\n",
    "\n",
    "# Create a bar plot to visualize these averages\n",
    "labels = ['Subscribers', 'Visits', 'Likes', 'Comments']\n",
    "averages = [avg_subscribers, avg_visits, avg_likes, avg_comments]\n",
    "\n",
    "plt.figure(figsize=(8, 6))\n",
    "plt.bar(labels, averages, color='skyblue')\n",
    "\n",
    "# Adding data labels with 'M' suffix\n",
    "for i in range(len(labels)):\n",
    "    plt.text(i, averages[i], str(round(averages[i]/1e6, 2)) + 'M', ha = 'center')\n",
    "\n",
    "plt.title('Average Number of Subscribers, Visits, Likes, and Comments')\n",
    "plt.ylabel('Average Count (in Millions)')\n",
    "plt.show()"
   ]
  },
  {
   "cell_type": "markdown",
   "id": "b8318c25",
   "metadata": {},
   "source": [
    "Each bar represents the average count (in millions) of subscribers, visits, likes, and comments respectively. This visualization helps us understand the average engagement metrics for these YouTube channels."
   ]
  },
  {
   "cell_type": "markdown",
   "id": "751c9ca6",
   "metadata": {},
   "source": [
    "# 5. Content Categories:"
   ]
  },
  {
   "cell_type": "code",
   "execution_count": 10,
   "id": "f3aa6b71",
   "metadata": {},
   "outputs": [
    {
     "data": {
      "text/plain": [
       "Categories\n",
       "Música y baile    224\n",
       "Animación         190\n",
       "Películas         177\n",
       "Humor              95\n",
       "Videojuegos        81\n",
       "Name: count, dtype: int64"
      ]
     },
     "execution_count": 10,
     "metadata": {},
     "output_type": "execute_result"
    }
   ],
   "source": [
    "# Splitting the 'Categories' column as each cell contains multiple categories\n",
    "yt_df['Categories'] = yt_df['Categories'].str.split(', ')\n",
    "\n",
    "# Exploding the dataframe on 'Categories' column\n",
    "exploded_df = yt_df.explode('Categories')\n",
    "\n",
    "# Counting the number of streamers in each category\n",
    "category_counts = exploded_df['Categories'].value_counts()\n",
    "\n",
    "# Displaying the categories with the highest number of streamers\n",
    "category_counts.head()\n",
    "\n"
   ]
  },
  {
   "cell_type": "markdown",
   "id": "1a219ad5",
   "metadata": {},
   "source": [
    "As we can see, 'Música y baile' (Music and Dance) has the highest number of streamers, followed by 'Animación' (Animation), 'Películas' (Movies), 'Humor', and 'Videojuegos' (Video Games)."
   ]
  },
  {
   "cell_type": "code",
   "execution_count": 12,
   "id": "c1231252",
   "metadata": {},
   "outputs": [
    {
     "data": {
      "text/html": [
       "<div>\n",
       "<style scoped>\n",
       "    .dataframe tbody tr th:only-of-type {\n",
       "        vertical-align: middle;\n",
       "    }\n",
       "\n",
       "    .dataframe tbody tr th {\n",
       "        vertical-align: top;\n",
       "    }\n",
       "\n",
       "    .dataframe thead th {\n",
       "        text-align: right;\n",
       "    }\n",
       "</style>\n",
       "<table border=\"1\" class=\"dataframe\">\n",
       "  <thead>\n",
       "    <tr style=\"text-align: right;\">\n",
       "      <th></th>\n",
       "      <th>Suscribers</th>\n",
       "      <th>Visits</th>\n",
       "      <th>Likes</th>\n",
       "      <th>Comments</th>\n",
       "    </tr>\n",
       "    <tr>\n",
       "      <th>Categories</th>\n",
       "      <th></th>\n",
       "      <th></th>\n",
       "      <th></th>\n",
       "      <th></th>\n",
       "    </tr>\n",
       "  </thead>\n",
       "  <tbody>\n",
       "    <tr>\n",
       "      <th>Juguetes</th>\n",
       "      <td>2.692742e+07</td>\n",
       "      <td>5.377903e+05</td>\n",
       "      <td>3274.983871</td>\n",
       "      <td>50.870968</td>\n",
       "    </tr>\n",
       "    <tr>\n",
       "      <th>Música y baile</th>\n",
       "      <td>2.476071e+07</td>\n",
       "      <td>4.623567e+05</td>\n",
       "      <td>18173.397321</td>\n",
       "      <td>1610.125000</td>\n",
       "    </tr>\n",
       "    <tr>\n",
       "      <th>Educación</th>\n",
       "      <td>2.447692e+07</td>\n",
       "      <td>1.057096e+06</td>\n",
       "      <td>41762.615385</td>\n",
       "      <td>1419.000000</td>\n",
       "    </tr>\n",
       "    <tr>\n",
       "      <th>Videojuegos</th>\n",
       "      <td>2.423827e+07</td>\n",
       "      <td>3.067986e+06</td>\n",
       "      <td>139924.246914</td>\n",
       "      <td>3182.901235</td>\n",
       "    </tr>\n",
       "    <tr>\n",
       "      <th>Animación</th>\n",
       "      <td>2.202737e+07</td>\n",
       "      <td>1.138641e+06</td>\n",
       "      <td>47474.873684</td>\n",
       "      <td>1740.084211</td>\n",
       "    </tr>\n",
       "  </tbody>\n",
       "</table>\n",
       "</div>"
      ],
      "text/plain": [
       "                  Suscribers        Visits          Likes     Comments\n",
       "Categories                                                            \n",
       "Juguetes        2.692742e+07  5.377903e+05    3274.983871    50.870968\n",
       "Música y baile  2.476071e+07  4.623567e+05   18173.397321  1610.125000\n",
       "Educación       2.447692e+07  1.057096e+06   41762.615385  1419.000000\n",
       "Videojuegos     2.423827e+07  3.067986e+06  139924.246914  3182.901235\n",
       "Animación       2.202737e+07  1.138641e+06   47474.873684  1740.084211"
      ]
     },
     "execution_count": 12,
     "metadata": {},
     "output_type": "execute_result"
    }
   ],
   "source": [
    "# Calculating the average performance metrics for each category\n",
    "average_metrics = exploded_df.groupby('Categories')[['Suscribers', 'Visits', 'Likes', 'Comments']].mean()\n",
    "\n",
    "# Displaying the categories with exceptional performance metrics\n",
    "average_metrics.sort_values(by='Suscribers', ascending=False).head()"
   ]
  },
  {
   "cell_type": "markdown",
   "id": "eeb05d3b",
   "metadata": {},
   "source": [
    "* As we can see, 'Juguetes' (Toys) category has the highest average number of subscribers, followed by 'Música y baile' (Music and Dance), 'Educación' (Education), 'Videojuegos' (Video Games), and 'Animación' (Animation).\n",
    "\n",
    "* These categories not only have a high number of streamers but also perform exceptionally well in terms of average subscribers, visits, likes, and comments."
   ]
  },
  {
   "cell_type": "markdown",
   "id": "d7770989",
   "metadata": {},
   "source": [
    "# 6. Brands and Collaborations:"
   ]
  },
  {
   "cell_type": "code",
   "execution_count": 17,
   "id": "927a8bc3",
   "metadata": {},
   "outputs": [
    {
     "data": {
      "text/plain": [
       "Suscribers    0.245203\n",
       "Likes         0.950470\n",
       "Comments      0.324067\n",
       "Visits        1.000000\n",
       "Name: Visits, dtype: float64"
      ]
     },
     "execution_count": 17,
     "metadata": {},
     "output_type": "execute_result"
    }
   ],
   "source": [
    "# Calculating the correlation\n",
    "performance_metrics = ['Suscribers', 'Likes', 'Comments']\n",
    "correlations = yt_df[performance_metrics + ['Visits']].corr()\n",
    "\n",
    "# Displaying the correlation between performance metrics and visits\n",
    "correlations['Visits']\n",
    "\n"
   ]
  },
  {
   "cell_type": "markdown",
   "id": "b9f1a0fc",
   "metadata": {},
   "source": [
    "As we can see, 'Likes' has the highest correlation with 'Visits' (0.95), followed by 'Comments' (0.32), and 'Subscribers' (0.24). This suggests that streamers with more likes are more likely to have more visits, which could indicate more brand collaborations and marketing campaigns."
   ]
  },
  {
   "cell_type": "code",
   "execution_count": 19,
   "id": "b59a78b9",
   "metadata": {},
   "outputs": [
    {
     "data": {
      "image/png": "[encoded data removed]",
      "text/plain": [
       "<Figure size 700x600 with 1 Axes>"
      ]
     },
     "metadata": {},
     "output_type": "display_data"
    }
   ],
   "source": [
    "# Selecting the top 5 categories\n",
    "n = 5\n",
    "top_categories = category_counts.head(n)\n",
    "\n",
    "# Plotting a pie chart\n",
    "plt.figure(figsize=(7, 6))\n",
    "plt.pie(top_categories, labels=top_categories.index, autopct='%1.1f%%', startangle=140)\n",
    "plt.title('Distribution of Top 5 Categories of Content')\n",
    "plt.show()"
   ]
  },
  {
   "cell_type": "markdown",
   "id": "f1fe5c68",
   "metadata": {},
   "source": [
    "This chart provides a visual representation of the proportion of streamers in each of these categories. As we can see, 'Música y baile' (Music and Dance) and 'Animación' (Animation) make up a significant portion of the top categories."
   ]
  },
  {
   "cell_type": "markdown",
   "id": "18debebb",
   "metadata": {},
   "source": [
    "# 7. Benchmarking:"
   ]
  },
  {
   "cell_type": "code",
   "execution_count": 21,
   "id": "7e02c87e",
   "metadata": {},
   "outputs": [
    {
     "data": {
      "text/html": [
       "<div>\n",
       "<style scoped>\n",
       "    .dataframe tbody tr th:only-of-type {\n",
       "        vertical-align: middle;\n",
       "    }\n",
       "\n",
       "    .dataframe tbody tr th {\n",
       "        vertical-align: top;\n",
       "    }\n",
       "\n",
       "    .dataframe thead th {\n",
       "        text-align: right;\n",
       "    }\n",
       "</style>\n",
       "<table border=\"1\" class=\"dataframe\">\n",
       "  <thead>\n",
       "    <tr style=\"text-align: right;\">\n",
       "      <th></th>\n",
       "      <th>Rank</th>\n",
       "      <th>Username</th>\n",
       "      <th>Categories</th>\n",
       "      <th>Suscribers</th>\n",
       "      <th>Country</th>\n",
       "      <th>Visits</th>\n",
       "      <th>Likes</th>\n",
       "      <th>Comments</th>\n",
       "      <th>Links</th>\n",
       "    </tr>\n",
       "  </thead>\n",
       "  <tbody>\n",
       "    <tr>\n",
       "      <th>1</th>\n",
       "      <td>2</td>\n",
       "      <td>MrBeast</td>\n",
       "      <td>[Videojuegos, Humor]</td>\n",
       "      <td>183500000</td>\n",
       "      <td>Estados Unidos</td>\n",
       "      <td>117400000.0</td>\n",
       "      <td>5300000</td>\n",
       "      <td>18500</td>\n",
       "      <td>http://youtube.com/channel/UCX6OQ3DkcsbYNE6H8u...</td>\n",
       "    </tr>\n",
       "    <tr>\n",
       "      <th>5</th>\n",
       "      <td>6</td>\n",
       "      <td>PewDiePie</td>\n",
       "      <td>[Películas, Videojuegos]</td>\n",
       "      <td>111500000</td>\n",
       "      <td>Estados Unidos</td>\n",
       "      <td>2400000.0</td>\n",
       "      <td>197300</td>\n",
       "      <td>4900</td>\n",
       "      <td>http://youtube.com/channel/UC-lHJZR3Gqxm24_Vd_...</td>\n",
       "    </tr>\n",
       "    <tr>\n",
       "      <th>26</th>\n",
       "      <td>27</td>\n",
       "      <td>dudeperfect</td>\n",
       "      <td>[Videojuegos]</td>\n",
       "      <td>59700000</td>\n",
       "      <td>Estados Unidos</td>\n",
       "      <td>5300000.0</td>\n",
       "      <td>156500</td>\n",
       "      <td>4200</td>\n",
       "      <td>http://youtube.com/channel/UCRijo3ddMTht_IHyNS...</td>\n",
       "    </tr>\n",
       "    <tr>\n",
       "      <th>34</th>\n",
       "      <td>35</td>\n",
       "      <td>TaylorSwift</td>\n",
       "      <td>[Música y baile]</td>\n",
       "      <td>54100000</td>\n",
       "      <td>Estados Unidos</td>\n",
       "      <td>4300000.0</td>\n",
       "      <td>300400</td>\n",
       "      <td>15000</td>\n",
       "      <td>http://youtube.com/channel/UCqECaJ8Gagnn7YCbPE...</td>\n",
       "    </tr>\n",
       "    <tr>\n",
       "      <th>39</th>\n",
       "      <td>40</td>\n",
       "      <td>JuegaGerman</td>\n",
       "      <td>[Películas, Animación]</td>\n",
       "      <td>48600000</td>\n",
       "      <td>México</td>\n",
       "      <td>2000000.0</td>\n",
       "      <td>117100</td>\n",
       "      <td>3000</td>\n",
       "      <td>http://youtube.com/channel/UCYiGq8XF7YQD00x7wA...</td>\n",
       "    </tr>\n",
       "  </tbody>\n",
       "</table>\n",
       "</div>"
      ],
      "text/plain": [
       "    Rank     Username                Categories  Suscribers         Country  \\\n",
       "1      2      MrBeast      [Videojuegos, Humor]   183500000  Estados Unidos   \n",
       "5      6    PewDiePie  [Películas, Videojuegos]   111500000  Estados Unidos   \n",
       "26    27  dudeperfect             [Videojuegos]    59700000  Estados Unidos   \n",
       "34    35  TaylorSwift          [Música y baile]    54100000  Estados Unidos   \n",
       "39    40  JuegaGerman    [Películas, Animación]    48600000          México   \n",
       "\n",
       "         Visits    Likes  Comments  \\\n",
       "1   117400000.0  5300000     18500   \n",
       "5     2400000.0   197300      4900   \n",
       "26    5300000.0   156500      4200   \n",
       "34    4300000.0   300400     15000   \n",
       "39    2000000.0   117100      3000   \n",
       "\n",
       "                                                Links  \n",
       "1   http://youtube.com/channel/UCX6OQ3DkcsbYNE6H8u...  \n",
       "5   http://youtube.com/channel/UC-lHJZR3Gqxm24_Vd_...  \n",
       "26  http://youtube.com/channel/UCRijo3ddMTht_IHyNS...  \n",
       "34  http://youtube.com/channel/UCqECaJ8Gagnn7YCbPE...  \n",
       "39  http://youtube.com/channel/UCYiGq8XF7YQD00x7wA...  "
      ]
     },
     "execution_count": 21,
     "metadata": {},
     "output_type": "execute_result"
    }
   ],
   "source": [
    "# Calculating the average number of subscribers, visits, likes, and comments\n",
    "average_subscribers = yt_df['Suscribers'].mean()\n",
    "average_visits = yt_df['Visits'].mean()\n",
    "average_likes = yt_df['Likes'].mean()\n",
    "average_comments = yt_df['Comments'].mean()\n",
    "\n",
    "# Selecting the streamers with above-average performance\n",
    "above_average_streamers = yt_df[(yt_df['Suscribers'] > average_subscribers) & (yt_df['Visits'] > average_visits) & (yt_df['Likes'] > average_likes) & (yt_df['Comments'] > average_comments)]\n",
    "\n",
    "# Displaying the top-performing content creators\n",
    "above_average_streamers.sort_values(by=['Suscribers', 'Visits', 'Likes', 'Comments'], ascending=False).head()"
   ]
  },
  {
   "cell_type": "markdown",
   "id": "92c13b8f",
   "metadata": {},
   "source": [
    "As we can see, 'MrBeast' is the top-performing content creator, followed by 'PewDiePie', 'dudeperfect', 'TaylorSwift', and 'JuegaGerman'. These content creators not only have a high number of subscribers but also perform exceptionally well in terms of visits, likes, and comments."
   ]
  },
  {
   "cell_type": "markdown",
   "id": "fe2a9ef3",
   "metadata": {},
   "source": [
    "# 8. Content Recommendations:"
   ]
  },
  {
   "cell_type": "code",
   "execution_count": 5,
   "id": "63dce80b",
   "metadata": {},
   "outputs": [
    {
     "data": {
      "text/html": [
       "<div>\n",
       "<style scoped>\n",
       "    .dataframe tbody tr th:only-of-type {\n",
       "        vertical-align: middle;\n",
       "    }\n",
       "\n",
       "    .dataframe tbody tr th {\n",
       "        vertical-align: top;\n",
       "    }\n",
       "\n",
       "    .dataframe thead th {\n",
       "        text-align: right;\n",
       "    }\n",
       "</style>\n",
       "<table border=\"1\" class=\"dataframe\">\n",
       "  <thead>\n",
       "    <tr style=\"text-align: right;\">\n",
       "      <th></th>\n",
       "      <th>Username</th>\n",
       "      <th>TotalEngagementScore</th>\n",
       "    </tr>\n",
       "  </thead>\n",
       "  <tbody>\n",
       "    <tr>\n",
       "      <th>0</th>\n",
       "      <td>tseries</td>\n",
       "      <td>249502778</td>\n",
       "    </tr>\n",
       "    <tr>\n",
       "      <th>1</th>\n",
       "      <td>MrBeast</td>\n",
       "      <td>188818500</td>\n",
       "    </tr>\n",
       "    <tr>\n",
       "      <th>2</th>\n",
       "      <td>CoComelon</td>\n",
       "      <td>165524700</td>\n",
       "    </tr>\n",
       "    <tr>\n",
       "      <th>3</th>\n",
       "      <td>SETIndia</td>\n",
       "      <td>162600175</td>\n",
       "    </tr>\n",
       "    <tr>\n",
       "      <th>4</th>\n",
       "      <td>KidsDianaShow</td>\n",
       "      <td>113512400</td>\n",
       "    </tr>\n",
       "    <tr>\n",
       "      <th>5</th>\n",
       "      <td>PewDiePie</td>\n",
       "      <td>111702200</td>\n",
       "    </tr>\n",
       "    <tr>\n",
       "      <th>6</th>\n",
       "      <td>LikeNastyaofficial</td>\n",
       "      <td>107528000</td>\n",
       "    </tr>\n",
       "    <tr>\n",
       "      <th>7</th>\n",
       "      <td>VladandNiki</td>\n",
       "      <td>101422100</td>\n",
       "    </tr>\n",
       "    <tr>\n",
       "      <th>8</th>\n",
       "      <td>zeemusiccompany</td>\n",
       "      <td>99702632</td>\n",
       "    </tr>\n",
       "    <tr>\n",
       "      <th>9</th>\n",
       "      <td>WWE</td>\n",
       "      <td>97206514</td>\n",
       "    </tr>\n",
       "  </tbody>\n",
       "</table>\n",
       "</div>"
      ],
      "text/plain": [
       "             Username  TotalEngagementScore\n",
       "0             tseries             249502778\n",
       "1             MrBeast             188818500\n",
       "2           CoComelon             165524700\n",
       "3            SETIndia             162600175\n",
       "4       KidsDianaShow             113512400\n",
       "5           PewDiePie             111702200\n",
       "6  LikeNastyaofficial             107528000\n",
       "7         VladandNiki             101422100\n",
       "8     zeemusiccompany              99702632\n",
       "9                 WWE              97206514"
      ]
     },
     "execution_count": 5,
     "metadata": {},
     "output_type": "execute_result"
    }
   ],
   "source": [
    "# Calculate TotalEngagementScore for each content creator\n",
    "yt_df['TotalEngagementScore']= yt_df['Suscribers'] + yt_df['Likes'] + yt_df['Comments']\n",
    "\n",
    "# Identify top_performing_creators based on TotalEngagementScore\n",
    "top_performing_creators = yt_df.nlargest(10, 'TotalEngagementScore')\n",
    "\n",
    "# Display information about the Top Performing Content Creators\n",
    "('Top Performing Content Creators')\n",
    "(top_performing_creators[['Username', 'TotalEngagementScore']])"
   ]
  },
  {
   "cell_type": "markdown",
   "id": "166e9df4",
   "metadata": {},
   "source": [
    "##### These top content creators span various genres, including music, entertainment, children's content, and individual creators. This information can guide content recommendation algorithms to suggest diverse and engaging content to users based on their preferences and viewing history."
   ]
  },
  {
   "cell_type": "code",
   "execution_count": null,
   "id": "1bd32d3f",
   "metadata": {},
   "outputs": [],
   "source": []
  }
 ],
 "metadata": {
  "kernelspec": {
   "display_name": "Python 3 (ipykernel)",
   "language": "python",
   "name": "python3"
  },
  "language_info": {
   "codemirror_mode": {
    "name": "ipython",
    "version": 3
   },
   "file_extension": ".py",
   "mimetype": "text/x-python",
   "name": "python",
   "nbconvert_exporter": "python",
   "pygments_lexer": "ipython3",
   "version": "3.11.5"
  }
 },
 "nbformat": 4,
 "nbformat_minor": 5
}
